{
 "cells": [
  {
   "cell_type": "code",
   "execution_count": 1,
   "id": "d7b625ac",
   "metadata": {},
   "outputs": [],
   "source": [
    "file_name = \"breast-cancer.data\"\n",
    "dim = 10"
   ]
  },
  {
   "cell_type": "code",
   "execution_count": 2,
   "id": "988e6d0e",
   "metadata": {},
   "outputs": [],
   "source": [
    "import pandas as pd"
   ]
  },
  {
   "cell_type": "code",
   "execution_count": 3,
   "id": "18f88ed3",
   "metadata": {},
   "outputs": [],
   "source": [
    "col_names = []\n",
    "for i in range(0,dim):\n",
    "    col_names.append(str(i))\n",
    "df = pd.read_csv(file_name, names=col_names, header=None)\n",
    "\n",
    "target = col_names.pop()\n",
    "df.rename(columns={target:'t'}, inplace=True)\n",
    "col_names.append('t')\n",
    "# Get one hot encoding of columns B\n",
    "for column in col_names:\n",
    "    one_hot = pd.get_dummies(df[column])\n",
    "    \n",
    "    new_names = []\n",
    "    index = 0\n",
    "    \n",
    "    for key in one_hot.keys():\n",
    "        new_names.append(column + \"_\"+ str(index))\n",
    "        index = index+1\n",
    "        \n",
    "    one_hot.columns = new_names\n",
    "    # Drop column B as it is now encoded\n",
    "    df = df.drop(column,axis = 1)\n",
    "    # Join the encoded df\n",
    "    df = df.join(one_hot)"
   ]
  },
  {
   "cell_type": "code",
   "execution_count": 4,
   "id": "7089bb6c",
   "metadata": {},
   "outputs": [],
   "source": [
    "df.to_csv(\"output.csv\", index=False)"
   ]
  }
 ],
 "metadata": {
  "kernelspec": {
   "display_name": "Python 3 (ipykernel)",
   "language": "python",
   "name": "python3"
  },
  "language_info": {
   "codemirror_mode": {
    "name": "ipython",
    "version": 3
   },
   "file_extension": ".py",
   "mimetype": "text/x-python",
   "name": "python",
   "nbconvert_exporter": "python",
   "pygments_lexer": "ipython3",
   "version": "3.10.1"
  }
 },
 "nbformat": 4,
 "nbformat_minor": 5
}
