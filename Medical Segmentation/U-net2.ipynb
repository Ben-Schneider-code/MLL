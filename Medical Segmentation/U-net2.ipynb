{
 "cells": [
  {
   "cell_type": "markdown",
   "id": "5b08b429",
   "metadata": {},
   "source": [
    "![](./diagram.JPG)"
   ]
  },
  {
   "cell_type": "code",
   "execution_count": 1,
   "id": "064bf43f",
   "metadata": {
    "scrolled": true
   },
   "outputs": [
    {
     "name": "stdout",
     "output_type": "stream",
     "text": [
      "cuda:0\n"
     ]
    }
   ],
   "source": [
    "from custom_functions import *"
   ]
  },
  {
   "cell_type": "code",
   "execution_count": 2,
   "id": "a5e4d1ff",
   "metadata": {},
   "outputs": [],
   "source": [
    "data_loader, data = load_med_data(batch_size = 1)"
   ]
  },
  {
   "cell_type": "code",
   "execution_count": 3,
   "id": "4a229015",
   "metadata": {},
   "outputs": [],
   "source": [
    "class Conv_layer(nn.Module):\n",
    "    def __init__(self, in_channels = 64, out_channels = 64, kernel_size = 3):\n",
    "        super(Conv_layer, self).__init__()\n",
    "        self.relu = nn.ReLU()\n",
    "        self.conv1 = nn.Conv2d(in_channels = in_channels, out_channels = out_channels, kernel_size = kernel_size, padding = \"same\", bias=False)\n",
    "        self.bn1 = nn.BatchNorm2d(out_channels)\n",
    "        \n",
    "        self.conv2 = nn.Conv2d(in_channels = out_channels, out_channels = out_channels, kernel_size = kernel_size, padding = \"same\",bias=False)\n",
    "        self.bn2 = nn.BatchNorm2d(out_channels)\n",
    "    \n",
    "    def forward(self, x):\n",
    "        x = self.conv1(x)\n",
    "        x = self.bn1(x)\n",
    "        x = self.relu(x)\n",
    "        x = self.conv2(x)\n",
    "        x = self.bn2(x)\n",
    "        x = self.relu(x)\n",
    "        \n",
    "        return x\n",
    "\n",
    "class Unet(nn.Module):\n",
    "        def __init__(self, in_dims = [(3,64),(64,128),(128,256),(256,512)], out_dims = [(1024,512),(512,256),(256,128),(128,64)], out_channels=3):\n",
    "            super(Unet, self).__init__()\n",
    "            self.pool = nn.MaxPool2d(kernel_size=2, stride=2)\n",
    "            self.sig = nn.Sigmoid()\n",
    "            \n",
    "            self.down_scale = nn.ModuleList()\n",
    "            self.up_scale_layer = nn.ModuleList()\n",
    "            self.up_scale_conv = nn.ModuleList()\n",
    "            \n",
    "            for i in in_dims:\n",
    "                self.down_scale.append(Conv_layer(in_channels=i[0], out_channels =i[1]))\n",
    "            \n",
    "            for i in out_dims:\n",
    "                self.up_scale_conv.append(nn.ConvTranspose2d(in_channels = i[0], out_channels = i[1], kernel_size =2, stride=2))\n",
    "                self.up_scale_layer.append(Conv_layer(in_channels=i[0], out_channels =i[1]))\n",
    "            \n",
    "            self.bottom_layer = Conv_layer(in_dims[-1][1] , out_dims[0][0])                                     \n",
    "            self.final_conv = nn.Conv2d(in_channels = out_dims[-1][1], out_channels = out_channels, kernel_size = 1, padding = \"same\")\n",
    "            \n",
    "        def forward(self, x):\n",
    "            \n",
    "            cat_tensors = []\n",
    "                                     \n",
    "            for fxn in self.down_scale:\n",
    "                x = fxn(x)\n",
    "                cat_tensors.append(x)\n",
    "                x = self.pool(x)\n",
    "            \n",
    "            x = self.bottom_layer(x)\n",
    "            \n",
    "            for index, fxn in enumerate(self.up_scale_conv):\n",
    "                x = self.up_scale_conv[index](x)\n",
    "                x = self.up_scale_layer[index](torch.cat((cat_tensors[-1*(index+1)],x),1))\n",
    "            \n",
    "            x = self.final_conv(x)\n",
    "            return self.sig(x)\n",
    "            \n",
    "    "
   ]
  },
  {
   "cell_type": "code",
   "execution_count": 4,
   "id": "25c03974",
   "metadata": {
    "scrolled": true
   },
   "outputs": [],
   "source": [
    "from torch.optim import Adam\n",
    "import os\n",
    "model = Unet().to(device)\n",
    "loss_fn = nn.CrossEntropyLoss()\n",
    "optimizer = Adam(model.parameters(), lr=0.01)"
   ]
  },
  {
   "cell_type": "code",
   "execution_count": 5,
   "id": "7a6bc885",
   "metadata": {},
   "outputs": [],
   "source": [
    "num_epochs = 100"
   ]
  },
  {
   "cell_type": "code",
   "execution_count": 6,
   "id": "a9d712f4",
   "metadata": {},
   "outputs": [],
   "source": [
    "def train_epoch(epoch_index):\n",
    "\n",
    "    # Here, we use enumerate(training_loader) instead of\n",
    "    # iter(training_loader) so that we can track the batch\n",
    "    # index and do some intra-epoch reporting\n",
    "    for i, data in enumerate(data_loader):\n",
    "        # Every data instance is an input + label pair\n",
    "        inputs, labels = data\n",
    "\n",
    "        # Zero your gradients for every batch!\n",
    "        optimizer.zero_grad()\n",
    "\n",
    "        # Make predictions for this batch\n",
    "        outputs = model(inputs)\n",
    "\n",
    "        # Compute the loss and its gradients\n",
    "        loss = loss_fn(outputs, labels)\n",
    "        loss.backward()\n",
    "\n",
    "        # Adjust learning weights\n",
    "        optimizer.step()\n",
    "\n",
    "    return epoch_index"
   ]
  },
  {
   "cell_type": "code",
   "execution_count": 7,
   "id": "b891ac98",
   "metadata": {
    "scrolled": true
   },
   "outputs": [
    {
     "name": "stdout",
     "output_type": "stream",
     "text": [
      "0.0\n",
      "0.01\n",
      "0.02\n",
      "0.03\n",
      "0.04\n",
      "0.05\n",
      "0.06\n",
      "0.07\n",
      "0.08\n",
      "0.09\n",
      "0.1\n",
      "0.11\n",
      "0.12\n",
      "0.13\n",
      "0.14\n",
      "0.15\n",
      "0.16\n",
      "0.17\n",
      "0.18\n",
      "0.19\n",
      "0.2\n",
      "0.21\n",
      "0.22\n",
      "0.23\n",
      "0.24\n",
      "0.25\n",
      "0.26\n",
      "0.27\n",
      "0.28\n",
      "0.29\n",
      "0.3\n",
      "0.31\n",
      "0.32\n",
      "0.33\n",
      "0.34\n",
      "0.35\n",
      "0.36\n",
      "0.37\n",
      "0.38\n",
      "0.39\n",
      "0.4\n",
      "0.41\n",
      "0.42\n",
      "0.43\n",
      "0.44\n",
      "0.45\n",
      "0.46\n",
      "0.47\n",
      "0.48\n",
      "0.49\n",
      "0.5\n",
      "0.51\n",
      "0.52\n",
      "0.53\n",
      "0.54\n",
      "0.55\n",
      "0.56\n",
      "0.57\n",
      "0.58\n",
      "0.59\n",
      "0.6\n",
      "0.61\n",
      "0.62\n",
      "0.63\n",
      "0.64\n",
      "0.65\n",
      "0.66\n",
      "0.67\n",
      "0.68\n",
      "0.69\n",
      "0.7\n",
      "0.71\n",
      "0.72\n",
      "0.73\n",
      "0.74\n",
      "0.75\n",
      "0.76\n",
      "0.77\n",
      "0.78\n",
      "0.79\n",
      "0.8\n",
      "0.81\n",
      "0.82\n",
      "0.83\n",
      "0.84\n",
      "0.85\n",
      "0.86\n",
      "0.87\n",
      "0.88\n",
      "0.89\n",
      "0.9\n",
      "0.91\n",
      "0.92\n",
      "0.93\n",
      "0.94\n",
      "0.95\n",
      "0.96\n",
      "0.97\n",
      "0.98\n",
      "0.99\n"
     ]
    }
   ],
   "source": [
    "for i in range(num_epochs):\n",
    "    train_epoch(i)\n",
    "    os.system(\"cls\")\n",
    "    print(i/num_epochs)"
   ]
  },
  {
   "cell_type": "code",
   "execution_count": null,
   "id": "248890a5",
   "metadata": {},
   "outputs": [],
   "source": [
    "plt.imshow( transforms.functional.to_pil_image(data[1][0]))\n",
    "plt.show()\n",
    "plt.imshow( transforms.functional.to_pil_image(data[1][1]))\n",
    "plt.show()\n",
    "plt.imshow( transforms.functional.to_pil_image(model(data[1][0].reshape(1,3,512,512)).reshape((3,512,512))))\n",
    "plt.show()"
   ]
  },
  {
   "cell_type": "code",
   "execution_count": null,
   "id": "30aa9fce",
   "metadata": {},
   "outputs": [],
   "source": []
  }
 ],
 "metadata": {
  "kernelspec": {
   "display_name": "Python 3 (ipykernel)",
   "language": "python",
   "name": "python3"
  },
  "language_info": {
   "codemirror_mode": {
    "name": "ipython",
    "version": 3
   },
   "file_extension": ".py",
   "mimetype": "text/x-python",
   "name": "python",
   "nbconvert_exporter": "python",
   "pygments_lexer": "ipython3",
   "version": "3.10.1"
  }
 },
 "nbformat": 4,
 "nbformat_minor": 5
}
